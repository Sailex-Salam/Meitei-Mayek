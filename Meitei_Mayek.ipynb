{
  "nbformat": 4,
  "nbformat_minor": 0,
  "metadata": {
    "colab": {
      "provenance": [],
      "gpuType": "T4",
      "mount_file_id": "1P6AbKr_6WqZJobwdZOBL_AP7AR9ArwQj",
      "authorship_tag": "ABX9TyMEumrBhg1a7iqP3FwrSndB",
      "include_colab_link": true
    },
    "kernelspec": {
      "name": "python3",
      "display_name": "Python 3"
    },
    "language_info": {
      "name": "python"
    },
    "accelerator": "GPU"
  },
  "cells": [
    {
      "cell_type": "markdown",
      "metadata": {
        "id": "view-in-github",
        "colab_type": "text"
      },
      "source": [
        "<a href=\"https://colab.research.google.com/github/Sailex-Salam/Meitei-Mayek/blob/main/Meitei_Mayek.ipynb\" target=\"_parent\"><img src=\"https://colab.research.google.com/assets/colab-badge.svg\" alt=\"Open In Colab\"/></a>"
      ]
    },
    {
      "cell_type": "code",
      "execution_count": null,
      "metadata": {
        "id": "7l35VgmPcj_3"
      },
      "outputs": [],
      "source": [
        "import numpy as np\n",
        "import cv2\n",
        "import os\n",
        "import random\n",
        "from matplotlib import pyplot as plt"
      ]
    },
    {
      "cell_type": "code",
      "source": [
        "directory = r'/content/drive/MyDrive/train'\n",
        "categories = ['ꯀ','ꯁ','ꯂ']"
      ],
      "metadata": {
        "id": "oWrNG-Y1cooU"
      },
      "execution_count": null,
      "outputs": []
    },
    {
      "cell_type": "code",
      "source": [
        "data = []"
      ],
      "metadata": {
        "id": "0vKpviprdQHa"
      },
      "execution_count": null,
      "outputs": []
    },
    {
      "cell_type": "code",
      "source": [
        "# for category in categories:\n",
        "#   folder = os.path.join(directory, category)\n",
        "#   label = categories.index(category)\n",
        "#   for img in os.listdir(folder):\n",
        "#     img_path = os.path.join(folder, img)\n",
        "#     img_arr = cv2.imread(img_path)\n",
        "#     img_arr = cv2.resize(img_arr,(120,120))\n",
        "#     data.append([img_arr, label])\n",
        "for category in categories:\n",
        "    folder = os.path.join(directory, category)\n",
        "    label = categories.index(category)\n",
        "\n",
        "    for img in os.listdir(folder):\n",
        "        img_path = os.path.join(folder, img)\n",
        "        img_arr = cv2.imread(img_path)\n",
        "\n",
        "        if img_arr is None:\n",
        "            continue\n",
        "\n",
        "        img_arr = cv2.resize(img_arr, (120, 120))\n",
        "\n",
        "        # Original image\n",
        "        data.append([img_arr, label])\n",
        "\n",
        "\n",
        "\n",
        "\n",
        "        # Augmentation 3: Add Gaussian Noise\n",
        "        noise = np.random.normal(0, 15, img_arr.shape).astype(np.uint8)\n",
        "        noisy = cv2.add(img_arr, noise)\n",
        "        data.append([noisy, label])\n",
        "\n",
        "\n",
        "        # Augmentation 6: Gaussian Blur\n",
        "        blurred = cv2.GaussianBlur(img_arr, (5, 5), 0)\n",
        "        data.append([blurred, label])\n",
        "\n",
        "        # Augmentation 7: Brightness Adjustment\n",
        "        brightness = cv2.convertScaleAbs(img_arr, alpha=1.3, beta=30)\n",
        "        data.append([brightness, label])\n",
        "\n",
        "        # Augmentation 8: Slight Zoom Out\n",
        "        scale_factor = 0.9\n",
        "        M_scale = cv2.getRotationMatrix2D((60, 60), 0, scale_factor)\n",
        "        scaled = cv2.warpAffine(img_arr, M_scale, (120, 120))\n",
        "        data.append([scaled, label])"
      ],
      "metadata": {
        "id": "YXDuvvI4dVWa"
      },
      "execution_count": null,
      "outputs": []
    },
    {
      "cell_type": "code",
      "source": [
        "random.shuffle(data)\n"
      ],
      "metadata": {
        "id": "PjTg_GmHdgZS"
      },
      "execution_count": null,
      "outputs": []
    },
    {
      "cell_type": "code",
      "source": [
        "x = []\n",
        "y = []\n"
      ],
      "metadata": {
        "id": "pwiTRoFVdo0l"
      },
      "execution_count": null,
      "outputs": []
    },
    {
      "cell_type": "code",
      "source": [
        "for features, label in data:\n",
        "  x.append(features)\n",
        "  y.append(label)"
      ],
      "metadata": {
        "id": "tFdr_RMSdqyG"
      },
      "execution_count": null,
      "outputs": []
    },
    {
      "cell_type": "code",
      "source": [
        "x = np.array(x)\n",
        "y = np.array(y)"
      ],
      "metadata": {
        "id": "hJh0Rnhfdtjg"
      },
      "execution_count": null,
      "outputs": []
    },
    {
      "cell_type": "code",
      "source": [
        "x = x/255"
      ],
      "metadata": {
        "id": "w05zGEUvdv56"
      },
      "execution_count": null,
      "outputs": []
    },
    {
      "cell_type": "code",
      "source": [
        "\n",
        "from keras.models import Sequential\n",
        "from keras.layers import Conv2D, MaxPooling2D, Flatten,Dense\n",
        "from keras.layers import Dropout, BatchNormalization"
      ],
      "metadata": {
        "id": "S4Of0imhdySN"
      },
      "execution_count": null,
      "outputs": []
    },
    {
      "cell_type": "code",
      "source": [
        "model = Sequential()"
      ],
      "metadata": {
        "id": "Yvm5DoEad0hU"
      },
      "execution_count": null,
      "outputs": []
    },
    {
      "cell_type": "code",
      "source": [
        "\n",
        "x.shape"
      ],
      "metadata": {
        "colab": {
          "base_uri": "https://localhost:8080/"
        },
        "id": "qsbkK2UXd3nN",
        "outputId": "33fcff8c-4478-4b83-81cb-f455d4edd2ea"
      },
      "execution_count": null,
      "outputs": [
        {
          "output_type": "execute_result",
          "data": {
            "text/plain": [
              "(1440, 120, 120, 3)"
            ]
          },
          "metadata": {},
          "execution_count": 12
        }
      ]
    },
    {
      "cell_type": "code",
      "source": [
        "model = Sequential()\n",
        "model.add(Conv2D(64, (3,3), activation='relu', input_shape=(120,120,3)))\n",
        "model.add(BatchNormalization())\n",
        "model.add(MaxPooling2D(2,2))\n",
        "model.add(Dropout(0.25))\n",
        "\n",
        "model.add(Conv2D(128, (3,3), activation='relu'))\n",
        "model.add(BatchNormalization())\n",
        "model.add(MaxPooling2D(2,2))\n",
        "model.add(Dropout(0.25))\n",
        "\n",
        "model.add(Flatten())\n",
        "model.add(Dense(256, activation='relu'))\n",
        "model.add(BatchNormalization())\n",
        "model.add(Dropout(0.5))\n",
        "model.add(Dense(3, activation='softmax'))"
      ],
      "metadata": {
        "colab": {
          "base_uri": "https://localhost:8080/"
        },
        "id": "__u7Mj4Bd5ti",
        "outputId": "e73894c9-ecaf-4ce8-a5b2-dd2699805d0e"
      },
      "execution_count": null,
      "outputs": [
        {
          "output_type": "stream",
          "name": "stderr",
          "text": [
            "/usr/local/lib/python3.11/dist-packages/keras/src/layers/convolutional/base_conv.py:107: UserWarning: Do not pass an `input_shape`/`input_dim` argument to a layer. When using Sequential models, prefer using an `Input(shape)` object as the first layer in the model instead.\n",
            "  super().__init__(activity_regularizer=activity_regularizer, **kwargs)\n"
          ]
        }
      ]
    },
    {
      "cell_type": "code",
      "source": [
        "model.compile(optimizer = 'adam', loss = 'sparse_categorical_crossentropy', metrics = ['accuracy'])"
      ],
      "metadata": {
        "id": "TddqPBd1d9st"
      },
      "execution_count": null,
      "outputs": []
    },
    {
      "cell_type": "code",
      "source": [
        "model.fit(x, y, epochs=20, validation_split=0.2)"
      ],
      "metadata": {
        "colab": {
          "base_uri": "https://localhost:8080/"
        },
        "id": "9QrV-tNReBQo",
        "outputId": "aeb25244-3b24-4365-a440-0717e0e790d2",
        "collapsed": true
      },
      "execution_count": null,
      "outputs": [
        {
          "output_type": "stream",
          "name": "stdout",
          "text": [
            "Epoch 1/20\n",
            "\u001b[1m36/36\u001b[0m \u001b[32m━━━━━━━━━━━━━━━━━━━━\u001b[0m\u001b[37m\u001b[0m \u001b[1m118s\u001b[0m 3s/step - accuracy: 0.7677 - loss: 0.6963 - val_accuracy: 0.4479 - val_loss: 7.0464\n",
            "Epoch 2/20\n",
            "\u001b[1m36/36\u001b[0m \u001b[32m━━━━━━━━━━━━━━━━━━━━\u001b[0m\u001b[37m\u001b[0m \u001b[1m137s\u001b[0m 3s/step - accuracy: 0.9232 - loss: 0.2584 - val_accuracy: 0.6979 - val_loss: 0.7295\n",
            "Epoch 3/20\n",
            "\u001b[1m36/36\u001b[0m \u001b[32m━━━━━━━━━━━━━━━━━━━━\u001b[0m\u001b[37m\u001b[0m \u001b[1m144s\u001b[0m 3s/step - accuracy: 0.9445 - loss: 0.1361 - val_accuracy: 0.8090 - val_loss: 0.4843\n",
            "Epoch 4/20\n",
            "\u001b[1m36/36\u001b[0m \u001b[32m━━━━━━━━━━━━━━━━━━━━\u001b[0m\u001b[37m\u001b[0m \u001b[1m140s\u001b[0m 3s/step - accuracy: 0.9678 - loss: 0.1111 - val_accuracy: 0.7049 - val_loss: 0.7315\n",
            "Epoch 5/20\n",
            "\u001b[1m36/36\u001b[0m \u001b[32m━━━━━━━━━━━━━━━━━━━━\u001b[0m\u001b[37m\u001b[0m \u001b[1m149s\u001b[0m 3s/step - accuracy: 0.9891 - loss: 0.0405 - val_accuracy: 0.7535 - val_loss: 0.5904\n",
            "Epoch 6/20\n",
            "\u001b[1m36/36\u001b[0m \u001b[32m━━━━━━━━━━━━━━━━━━━━\u001b[0m\u001b[37m\u001b[0m \u001b[1m113s\u001b[0m 3s/step - accuracy: 0.9849 - loss: 0.0479 - val_accuracy: 0.7535 - val_loss: 0.5564\n",
            "Epoch 7/20\n",
            "\u001b[1m36/36\u001b[0m \u001b[32m━━━━━━━━━━━━━━━━━━━━\u001b[0m\u001b[37m\u001b[0m \u001b[1m157s\u001b[0m 4s/step - accuracy: 0.9805 - loss: 0.0491 - val_accuracy: 0.6597 - val_loss: 0.9236\n",
            "Epoch 8/20\n",
            "\u001b[1m36/36\u001b[0m \u001b[32m━━━━━━━━━━━━━━━━━━━━\u001b[0m\u001b[37m\u001b[0m \u001b[1m130s\u001b[0m 3s/step - accuracy: 0.9905 - loss: 0.0303 - val_accuracy: 0.8854 - val_loss: 0.2556\n",
            "Epoch 9/20\n",
            "\u001b[1m36/36\u001b[0m \u001b[32m━━━━━━━━━━━━━━━━━━━━\u001b[0m\u001b[37m\u001b[0m \u001b[1m113s\u001b[0m 3s/step - accuracy: 0.9855 - loss: 0.0465 - val_accuracy: 0.9931 - val_loss: 0.0604\n",
            "Epoch 10/20\n",
            "\u001b[1m36/36\u001b[0m \u001b[32m━━━━━━━━━━━━━━━━━━━━\u001b[0m\u001b[37m\u001b[0m \u001b[1m143s\u001b[0m 3s/step - accuracy: 0.9909 - loss: 0.0234 - val_accuracy: 0.9861 - val_loss: 0.0700\n",
            "Epoch 11/20\n",
            "\u001b[1m36/36\u001b[0m \u001b[32m━━━━━━━━━━━━━━━━━━━━\u001b[0m\u001b[37m\u001b[0m \u001b[1m116s\u001b[0m 3s/step - accuracy: 0.9963 - loss: 0.0126 - val_accuracy: 0.9792 - val_loss: 0.0747\n",
            "Epoch 12/20\n",
            "\u001b[1m36/36\u001b[0m \u001b[32m━━━━━━━━━━━━━━━━━━━━\u001b[0m\u001b[37m\u001b[0m \u001b[1m151s\u001b[0m 3s/step - accuracy: 0.9995 - loss: 0.0065 - val_accuracy: 1.0000 - val_loss: 0.0271\n",
            "Epoch 13/20\n",
            "\u001b[1m36/36\u001b[0m \u001b[32m━━━━━━━━━━━━━━━━━━━━\u001b[0m\u001b[37m\u001b[0m \u001b[1m132s\u001b[0m 3s/step - accuracy: 0.9959 - loss: 0.0132 - val_accuracy: 1.0000 - val_loss: 0.0200\n",
            "Epoch 14/20\n",
            "\u001b[1m36/36\u001b[0m \u001b[32m━━━━━━━━━━━━━━━━━━━━\u001b[0m\u001b[37m\u001b[0m \u001b[1m142s\u001b[0m 3s/step - accuracy: 0.9962 - loss: 0.0115 - val_accuracy: 0.9826 - val_loss: 0.0537\n",
            "Epoch 15/20\n",
            "\u001b[1m36/36\u001b[0m \u001b[32m━━━━━━━━━━━━━━━━━━━━\u001b[0m\u001b[37m\u001b[0m \u001b[1m141s\u001b[0m 3s/step - accuracy: 0.9885 - loss: 0.0311 - val_accuracy: 0.9757 - val_loss: 0.0686\n",
            "Epoch 16/20\n",
            "\u001b[1m36/36\u001b[0m \u001b[32m━━━━━━━━━━━━━━━━━━━━\u001b[0m\u001b[37m\u001b[0m \u001b[1m146s\u001b[0m 3s/step - accuracy: 0.9958 - loss: 0.0125 - val_accuracy: 1.0000 - val_loss: 0.0064\n",
            "Epoch 17/20\n",
            "\u001b[1m36/36\u001b[0m \u001b[32m━━━━━━━━━━━━━━━━━━━━\u001b[0m\u001b[37m\u001b[0m \u001b[1m138s\u001b[0m 3s/step - accuracy: 1.0000 - loss: 0.0048 - val_accuracy: 1.0000 - val_loss: 0.0038\n",
            "Epoch 18/20\n",
            "\u001b[1m36/36\u001b[0m \u001b[32m━━━━━━━━━━━━━━━━━━━━\u001b[0m\u001b[37m\u001b[0m \u001b[1m141s\u001b[0m 3s/step - accuracy: 0.9991 - loss: 0.0051 - val_accuracy: 0.9792 - val_loss: 0.0325\n",
            "Epoch 19/20\n",
            "\u001b[1m36/36\u001b[0m \u001b[32m━━━━━━━━━━━━━━━━━━━━\u001b[0m\u001b[37m\u001b[0m \u001b[1m143s\u001b[0m 3s/step - accuracy: 0.9983 - loss: 0.0052 - val_accuracy: 1.0000 - val_loss: 0.0054\n",
            "Epoch 20/20\n",
            "\u001b[1m36/36\u001b[0m \u001b[32m━━━━━━━━━━━━━━━━━━━━\u001b[0m\u001b[37m\u001b[0m \u001b[1m147s\u001b[0m 3s/step - accuracy: 0.9936 - loss: 0.0113 - val_accuracy: 0.9965 - val_loss: 0.0117\n"
          ]
        },
        {
          "output_type": "execute_result",
          "data": {
            "text/plain": [
              "<keras.src.callbacks.history.History at 0x79d0130b6290>"
            ]
          },
          "metadata": {},
          "execution_count": 15
        }
      ]
    },
    {
      "cell_type": "code",
      "source": [
        "model.save('/content/drive/MyDrive/Models/LateNight.h5')"
      ],
      "metadata": {
        "colab": {
          "base_uri": "https://localhost:8080/"
        },
        "id": "oT4c_oxceP98",
        "outputId": "b8bbf4d7-389f-4f8f-c614-1153c05a466d",
        "collapsed": true
      },
      "execution_count": null,
      "outputs": [
        {
          "output_type": "stream",
          "name": "stderr",
          "text": [
            "WARNING:absl:You are saving your model as an HDF5 file via `model.save()` or `keras.saving.save_model(model)`. This file format is considered legacy. We recommend using instead the native Keras format, e.g. `model.save('my_model.keras')` or `keras.saving.save_model(model, 'my_model.keras')`. \n"
          ]
        }
      ]
    },
    {
      "cell_type": "code",
      "source": [
        "id = 821\n",
        "plt.imshow(x[id])"
      ],
      "metadata": {
        "colab": {
          "base_uri": "https://localhost:8080/",
          "height": 451
        },
        "id": "-0zPBZTCey6T",
        "outputId": "ac345115-e647-43fa-960d-aac0243eef4b"
      },
      "execution_count": null,
      "outputs": [
        {
          "output_type": "execute_result",
          "data": {
            "text/plain": [
              "<matplotlib.image.AxesImage at 0x79d00b4ea4d0>"
            ]
          },
          "metadata": {},
          "execution_count": 38
        },
        {
          "output_type": "display_data",
          "data": {
            "text/plain": [
              "<Figure size 640x480 with 1 Axes>"
            ],
            "image/png": "[encoded data removed]"
          },
          "metadata": {}
        }
      ]
    },
    {
      "cell_type": "code",
      "source": [
        "prediction = model.predict(x)\n",
        "s = prediction[id]\n",
        "print(s)\n",
        "k = np.argmax(prediction[id])\n",
        "if k == 0:\n",
        "  print('ꯀ')\n",
        "elif k == 1:\n",
        "  print('ꯁ')\n",
        "elif k == 2:\n",
        "  print('ꯂ')"
      ],
      "metadata": {
        "colab": {
          "base_uri": "https://localhost:8080/"
        },
        "id": "HxbQ7zCtfE7R",
        "outputId": "f9346bf7-0e9c-4c94-e561-b2d6307c551c"
      },
      "execution_count": null,
      "outputs": [
        {
          "output_type": "stream",
          "name": "stdout",
          "text": [
            "\u001b[1m45/45\u001b[0m \u001b[32m━━━━━━━━━━━━━━━━━━━━\u001b[0m\u001b[37m\u001b[0m \u001b[1m24s\u001b[0m 530ms/step\n",
            "[3.8838825e-05 9.9973261e-01 2.2864145e-04]\n",
            "ꯁ\n"
          ]
        }
      ]
    },
    {
      "cell_type": "code",
      "source": [
        "from tensorflow.keras.models import load_model\n",
        "\n",
        "# Load model from HDF5 file\n",
        "model = load_model('/content/drive/MyDrive/Models/Mepoch20.h5')\n",
        "\n",
        "\n"
      ],
      "metadata": {
        "colab": {
          "base_uri": "https://localhost:8080/"
        },
        "id": "qRcv3mtOfPDO",
        "outputId": "7b2aa2bf-09f1-41a2-bbc4-1dd63f754a30"
      },
      "execution_count": null,
      "outputs": [
        {
          "output_type": "stream",
          "name": "stderr",
          "text": [
            "WARNING:absl:Compiled the loaded model, but the compiled metrics have yet to be built. `model.compile_metrics` will be empty until you train or evaluate the model.\n"
          ]
        }
      ]
    },
    {
      "cell_type": "code",
      "source": [
        "\n",
        "img = cv2.imread('/content/1.jpg')\n",
        "img = cv2.resize(img, (120, 120))\n",
        "img = img / 255.0  # Normalize if model was trained with normalization\n",
        "img = np.expand_dims(img, axis=0)  # Add batch dimension (1, 120, 120, 3)\n",
        "img.shape"
      ],
      "metadata": {
        "colab": {
          "base_uri": "https://localhost:8080/"
        },
        "id": "LvX9H3Ecm-p5",
        "outputId": "0e450aa0-5b9c-40c5-c908-afb78ad560af"
      },
      "execution_count": null,
      "outputs": [
        {
          "output_type": "execute_result",
          "data": {
            "text/plain": [
              "(1, 120, 120, 3)"
            ]
          },
          "metadata": {},
          "execution_count": 31
        }
      ]
    },
    {
      "cell_type": "code",
      "source": [
        "plt.imshow(img[0])"
      ],
      "metadata": {
        "colab": {
          "base_uri": "https://localhost:8080/",
          "height": 451
        },
        "id": "nifJ-mRlqc7g",
        "outputId": "f5fb20eb-521a-4eb4-ca3e-36dd5e3b272e"
      },
      "execution_count": null,
      "outputs": [
        {
          "output_type": "execute_result",
          "data": {
            "text/plain": [
              "<matplotlib.image.AxesImage at 0x79d00b573490>"
            ]
          },
          "metadata": {},
          "execution_count": 32
        },
        {
          "output_type": "display_data",
          "data": {
            "text/plain": [
              "<Figure size 640x480 with 1 Axes>"
            ],
            "image/png": "[encoded data removed]"
          },
          "metadata": {}
        }
      ]
    },
    {
      "cell_type": "code",
      "source": [
        "prediction = model.predict(img)\n",
        "l = prediction[0]\n",
        "print(np.ceil(l * 1e3) / 1e3)\n",
        "c = np.argmax(l)\n",
        "if c == 0:\n",
        "  print(f'Detected : ꯀ \\nAccuracy : {l[c]}')\n",
        "elif c == 1:\n",
        "  print(f'Detected : ꯁ \\nAccuracy : {l[c]}')\n",
        "elif c == 2:\n",
        "  print(f'Detected : ꯂ \\nAccuracy : {l[c]}')"
      ],
      "metadata": {
        "colab": {
          "base_uri": "https://localhost:8080/"
        },
        "id": "2xuvp5_WoHs3",
        "outputId": "fda915ff-c22e-40ba-8636-0df1eb3da01d"
      },
      "execution_count": null,
      "outputs": [
        {
          "output_type": "stream",
          "name": "stdout",
          "text": [
            "\u001b[1m1/1\u001b[0m \u001b[32m━━━━━━━━━━━━━━━━━━━━\u001b[0m\u001b[37m\u001b[0m \u001b[1m0s\u001b[0m 56ms/step\n",
            "[1.    0.001 0.001]\n",
            "Detected : ꯀ \n",
            "Accuracy : 0.9999749660491943\n"
          ]
        }
      ]
    },
    {
      "cell_type": "code",
      "source": [],
      "metadata": {
        "id": "1f1YCBbOYfb3"
      },
      "execution_count": null,
      "outputs": []
    }
  ]
}